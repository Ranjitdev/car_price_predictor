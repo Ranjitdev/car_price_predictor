{
 "cells": [
  {
   "cell_type": "code",
   "execution_count": 1,
   "id": "f19bd7ba",
   "metadata": {},
   "outputs": [],
   "source": [
    "from sklearn import set_config\n",
    "set_config(display=\"text\")\n",
    "import warnings\n",
    "warnings.simplefilter('ignore')"
   ]
  },
  {
   "cell_type": "code",
   "execution_count": 2,
   "id": "315692c3",
   "metadata": {},
   "outputs": [],
   "source": [
    "import numpy as np\n",
    "import pandas as pd\n",
    "import math\n",
    "import matplotlib.pyplot as plt\n",
    "import seaborn as sns\n",
    "import dill\n",
    "%matplotlib inline"
   ]
  },
  {
   "cell_type": "code",
   "execution_count": 3,
   "id": "ff161864",
   "metadata": {},
   "outputs": [
    {
     "data": {
      "text/html": [
       "<div>\n",
       "<style scoped>\n",
       "    .dataframe tbody tr th:only-of-type {\n",
       "        vertical-align: middle;\n",
       "    }\n",
       "\n",
       "    .dataframe tbody tr th {\n",
       "        vertical-align: top;\n",
       "    }\n",
       "\n",
       "    .dataframe thead th {\n",
       "        text-align: right;\n",
       "    }\n",
       "</style>\n",
       "<table border=\"1\" class=\"dataframe\">\n",
       "  <thead>\n",
       "    <tr style=\"text-align: right;\">\n",
       "      <th></th>\n",
       "      <th>Name</th>\n",
       "      <th>Location</th>\n",
       "      <th>Kms_driven</th>\n",
       "      <th>Fuel_type</th>\n",
       "      <th>Owner</th>\n",
       "      <th>Year</th>\n",
       "      <th>Price</th>\n",
       "    </tr>\n",
       "  </thead>\n",
       "  <tbody>\n",
       "    <tr>\n",
       "      <th>0</th>\n",
       "      <td>Ford Figo Duratec</td>\n",
       "      <td>Bangalore</td>\n",
       "      <td>35056</td>\n",
       "      <td>Petrol</td>\n",
       "      <td>0</td>\n",
       "      <td>2015</td>\n",
       "      <td>380000</td>\n",
       "    </tr>\n",
       "    <tr>\n",
       "      <th>1</th>\n",
       "      <td>Maruti Suzuki Wagon</td>\n",
       "      <td>Bangalore</td>\n",
       "      <td>44000</td>\n",
       "      <td>Petrol</td>\n",
       "      <td>0</td>\n",
       "      <td>2016</td>\n",
       "      <td>465000</td>\n",
       "    </tr>\n",
       "    <tr>\n",
       "      <th>2</th>\n",
       "      <td>Hyundai Creta 1.6</td>\n",
       "      <td>Bangalore</td>\n",
       "      <td>42917</td>\n",
       "      <td>Petrol</td>\n",
       "      <td>0</td>\n",
       "      <td>2018</td>\n",
       "      <td>1350000</td>\n",
       "    </tr>\n",
       "    <tr>\n",
       "      <th>3</th>\n",
       "      <td>Hyundai Venue</td>\n",
       "      <td>Chennai</td>\n",
       "      <td>16112</td>\n",
       "      <td>Petrol</td>\n",
       "      <td>2</td>\n",
       "      <td>2019</td>\n",
       "      <td>1019699</td>\n",
       "    </tr>\n",
       "    <tr>\n",
       "      <th>4</th>\n",
       "      <td>Honda Jazz</td>\n",
       "      <td>Pune</td>\n",
       "      <td>30988</td>\n",
       "      <td>Petrol</td>\n",
       "      <td>2</td>\n",
       "      <td>2017</td>\n",
       "      <td>713499</td>\n",
       "    </tr>\n",
       "  </tbody>\n",
       "</table>\n",
       "</div>"
      ],
      "text/plain": [
       "                  Name   Location  Kms_driven Fuel_type  Owner  Year    Price\n",
       "0    Ford Figo Duratec  Bangalore       35056    Petrol      0  2015   380000\n",
       "1  Maruti Suzuki Wagon  Bangalore       44000    Petrol      0  2016   465000\n",
       "2    Hyundai Creta 1.6  Bangalore       42917    Petrol      0  2018  1350000\n",
       "3       Hyundai Venue     Chennai       16112    Petrol      2  2019  1019699\n",
       "4          Honda Jazz        Pune       30988    Petrol      2  2017   713499"
      ]
     },
     "execution_count": 3,
     "metadata": {},
     "output_type": "execute_result"
    }
   ],
   "source": [
    "data = pd.read_csv('data.csv')\n",
    "data.head()"
   ]
  },
  {
   "cell_type": "code",
   "execution_count": 11,
   "id": "798ab534",
   "metadata": {},
   "outputs": [
    {
     "data": {
      "text/plain": [
       "array([2015, 2016, 2018, 2019, 2017, 2013, 2012, 2020, 2014, 2011, 2021,\n",
       "       2010, 2001, 2022, 2000, 2008, 2005, 2007, 2006, 2004, 2002, 2009,\n",
       "       2003], dtype=int64)"
      ]
     },
     "execution_count": 11,
     "metadata": {},
     "output_type": "execute_result"
    }
   ],
   "source": [
    "data['Year'].unique()"
   ]
  },
  {
   "cell_type": "code",
   "execution_count": 6,
   "id": "354e550a",
   "metadata": {},
   "outputs": [],
   "source": [
    "from sklearn.linear_model import LinearRegression, Ridge, Lasso\n",
    "from sklearn.ensemble import RandomForestRegressor, GradientBoostingRegressor\n",
    "from xgboost import XGBRegressor\n",
    "from catboost import CatBoostRegressor\n",
    "from sklearn.neighbors import KNeighborsRegressor\n",
    "from sklearn.svm import SVR\n",
    "from sklearn.tree import DecisionTreeRegressor"
   ]
  },
  {
   "cell_type": "code",
   "execution_count": 7,
   "id": "53067a2e",
   "metadata": {},
   "outputs": [],
   "source": [
    "from sklearn.model_selection import train_test_split, GridSearchCV\n",
    "from sklearn.pipeline import make_pipeline, Pipeline\n",
    "from sklearn.compose import ColumnTransformer\n",
    "from sklearn.impute import SimpleImputer\n",
    "from sklearn.preprocessing import StandardScaler, OneHotEncoder\n",
    "from sklearn.metrics import r2_score"
   ]
  },
  {
   "cell_type": "code",
   "execution_count": 8,
   "id": "2ddb6666",
   "metadata": {},
   "outputs": [],
   "source": [
    "models = {\n",
    "    'LinearRegression':LinearRegression(),\n",
    "    'Ridge':Ridge(),\n",
    "    'Lasso':Lasso(),\n",
    "    'KNeighborsRegressor':KNeighborsRegressor(),\n",
    "    'DecisionTreeRegressor':DecisionTreeRegressor(),\n",
    "    'RandomForestRegressor':RandomForestRegressor(),\n",
    "    'XGBRegressor':XGBRegressor(),\n",
    "    'CatBoostRegressor':CatBoostRegressor(verbose=False),\n",
    "    'GradientBoostingRegressor': GradientBoostingRegressor(),\n",
    "    'SVR':SVR()\n",
    "}"
   ]
  },
  {
   "cell_type": "code",
   "execution_count": 9,
   "id": "2c899b04",
   "metadata": {},
   "outputs": [],
   "source": [
    "params={\n",
    "    'LinearRegression':{},\n",
    "    'Ridge':{'alpha':[0.1, 0.2, 0.5, 0.7,1,5,10,20]},\n",
    "    'Lasso':{'alpha':[0.1, 0.2, 0.5, 0.7,1,5,10,20]},\n",
    "    'KNeighborsRegressor':{\n",
    "        'n_neighbors' : [5,7,9,11,13,15],\n",
    "        #'weights' : ['uniform','distance'],\n",
    "        #'metric' : ['minkowski','euclidean','manhattan'],\n",
    "        'algorithm':['auto', 'ball_tree', 'kd_tree', 'brute']\n",
    "    },\n",
    "    'DecisionTreeRegressor':{\n",
    "        'criterion':['squared_error', 'friedman_mse', 'absolute_error', 'poisson'],\n",
    "        #The function to measure the quality of a split.\n",
    "        #'splitter':['best','random'],\n",
    "        #The strategy used to choose the split at each node. \n",
    "        'max_depth':range(2,25,1),\n",
    "        #the maximum depth of tree\n",
    "        'min_samples_split':range(2,20,1),\n",
    "        #minimum samples required for splitting further\n",
    "        'min_samples_leaf':range(1,15,1),\n",
    "        #minimum samples required to be a leaf\n",
    "        'max_features':['sqrt','log2']\n",
    "        #The number of features to consider when looking for the best split:\n",
    "    },\n",
    "    'RandomForestRegressor':{\n",
    "#        'n_estimators':range(10, 100, 10),\n",
    "        'criterion':['squared_error', 'absolute_error', 'friedman_mse', 'poisson'],\n",
    "#         'max_depth':range(3, 25, 1),\n",
    "#         'min_samples_split':range(2, 15, 1),\n",
    "#         'min_samples_leaf':range(1, 15, 1),\n",
    "        'max_features':['sqrt','log2']\n",
    "    },\n",
    "    'GradientBoostingRegressor':{\n",
    "#        'n_estimators':range(25, 500, 25),\n",
    "        'loss':['squared_error', 'absolute_error', 'huber','quantile'],\n",
    "        'criterion':['friedman_mse','squared_error'],\n",
    "#         'max_depth':range(3, 25, 1),\n",
    "#         'min_samples_split':range(2, 15, 1),\n",
    "#         'min_samples_leaf':range(1, 15, 1),\n",
    "#         'learning_rate': [1,0.5,.1, .01, .05, .001],\n",
    "#         'subsample': [0.6, 0.7, 0.75, 0.8, 0.85, 0.9],\n",
    "        'max_features':['sqrt','log2']\n",
    "    },\n",
    "    'XGBRegressor':{\n",
    "#        'n_estimators':range(25, 500, 25),\n",
    "        'learning_rate': [1,0.5,.1, .01, .05, .001]\n",
    "    },\n",
    "    'CatBoostRegressor':{\n",
    "        'depth': [6, 8, 10],\n",
    "        'learning_rate': [1,0.5,.1, .01, .05, .001],\n",
    "        'iterations': [30, 50, 100]\n",
    "    },\n",
    "    'SVR':{\n",
    "        'C': [0.1, 1, 10, 100, 1000], \n",
    "        'gamma': [1, 0.1, 0.01, 0.001, 0.0001],\n",
    "        'kernel': ['rbf', 'sigmoid']\n",
    "    }\n",
    "}"
   ]
  },
  {
   "cell_type": "code",
   "execution_count": 10,
   "id": "87755633",
   "metadata": {},
   "outputs": [],
   "source": [
    "def transformer_pipe():\n",
    "    numeric_features = ['Kms_driven', 'Owner', 'Year']\n",
    "    categorical_features = ['Name', 'Location', 'Fuel_type']\n",
    "    num_pipe = make_pipeline(\n",
    "        SimpleImputer(strategy='median'),\n",
    "        StandardScaler()\n",
    "    )\n",
    "    cat_pipe = make_pipeline(\n",
    "        SimpleImputer(strategy='most_frequent'),\n",
    "        OneHotEncoder()\n",
    "    )\n",
    "    transformer_obj = ColumnTransformer([\n",
    "        ('numerical', num_pipe, numeric_features),\n",
    "        ('categorical', cat_pipe, categorical_features)\n",
    "    ])\n",
    "    return transformer_obj"
   ]
  },
  {
   "cell_type": "code",
   "execution_count": 11,
   "id": "88620b42",
   "metadata": {},
   "outputs": [],
   "source": [
    "target = 'Price'"
   ]
  },
  {
   "cell_type": "code",
   "execution_count": 12,
   "id": "4f938f2d",
   "metadata": {},
   "outputs": [],
   "source": [
    "transformer_obj = transformer_pipe()\n",
    "processed_data = transformer_obj.fit_transform(data.drop(target, axis=1)).toarray()\n",
    "with open('preprocessor.pkl', 'wb') as file:\n",
    "    dill.dump(transformer_obj, file)"
   ]
  },
  {
   "cell_type": "code",
   "execution_count": 13,
   "id": "71503c78",
   "metadata": {},
   "outputs": [],
   "source": [
    "raw_array = pd.DataFrame(np.column_stack((processed_data, data[[target]])))\n",
    "raw_array.to_csv('processed_array.csv', index=None, header=True)\n",
    "x = raw_array.iloc[:, :-1]\n",
    "y = raw_array.iloc[:, -1]\n",
    "x_train, x_test, y_train, y_test = train_test_split(x, y, train_size=0.8, random_state=61)"
   ]
  },
  {
   "cell_type": "code",
   "execution_count": 14,
   "id": "cda0e108",
   "metadata": {},
   "outputs": [
    {
     "name": "stdout",
     "output_type": "stream",
     "text": [
      "LinearRegression 94.40389372528644 95.09278949885231\n",
      "Ridge 84.72419979156565 86.23172806285407\n",
      "Lasso 94.40381860836112 95.09298575075152\n",
      "KNeighborsRegressor 59.34010384821696 59.4929879231405\n",
      "DecisionTreeRegressor 99.63778428708689 99.99412265594052\n",
      "RandomForestRegressor 92.97311066157907 93.49900522609596\n",
      "XGBRegressor 96.57236032154582 97.02322678769532\n",
      "CatBoostRegressor 92.65619298498062 93.26307915484212\n",
      "GradientBoostingRegressor 82.13110704830036 82.77832661547107\n",
      "SVR -5.548068695499109 -5.166799199381833\n"
     ]
    }
   ],
   "source": [
    "for i in models:\n",
    "    model = models[i]\n",
    "    param = params[i]\n",
    "    \n",
    "    model.fit(x, y)\n",
    "    y_pred_train = model.predict(x)\n",
    "    y_pred_test = model.predict(x_train)\n",
    "    print(i, r2_score(y, y_pred_train)*100, r2_score(y_train, y_pred_test)*100)"
   ]
  },
  {
   "cell_type": "code",
   "execution_count": 15,
   "id": "3823ac28",
   "metadata": {},
   "outputs": [],
   "source": [
    "mymodel = DecisionTreeRegressor()\n",
    "mymodel.fit(x, y)\n",
    "with open('model.pkl', 'wb') as file:\n",
    "    dill.dump(mymodel, file)"
   ]
  },
  {
   "cell_type": "code",
   "execution_count": 16,
   "id": "bbebc0ec",
   "metadata": {},
   "outputs": [],
   "source": [
    "with open('model.pkl', 'rb') as file:\n",
    "    loader = dill.load(file)"
   ]
  },
  {
   "cell_type": "code",
   "execution_count": 17,
   "id": "829b2070",
   "metadata": {},
   "outputs": [],
   "source": [
    "y_pred = loader.predict(x_test)"
   ]
  },
  {
   "cell_type": "code",
   "execution_count": 18,
   "id": "55b2c22a",
   "metadata": {},
   "outputs": [
    {
     "data": {
      "text/plain": [
       "98.29230541895816"
      ]
     },
     "execution_count": 18,
     "metadata": {},
     "output_type": "execute_result"
    }
   ],
   "source": [
    "r2_score(y_test, y_pred)*100"
   ]
  },
  {
   "cell_type": "code",
   "execution_count": 19,
   "id": "20984794",
   "metadata": {},
   "outputs": [],
   "source": [
    "with open('preprocessor.pkl', 'rb') as file:\n",
    "    processor = dill.load(file)"
   ]
  },
  {
   "cell_type": "code",
   "execution_count": 20,
   "id": "16f7fe51",
   "metadata": {},
   "outputs": [],
   "source": [
    "new_data = processor.transform(df_test_x)"
   ]
  },
  {
   "cell_type": "code",
   "execution_count": 21,
   "id": "af756237",
   "metadata": {},
   "outputs": [
    {
     "data": {
      "text/plain": [
       "array([ 380000.,  465000., 1350000., 1019699.,  713499.,  391099.,\n",
       "        474299., 1252999.,  393699.,  730899.])"
      ]
     },
     "execution_count": 21,
     "metadata": {},
     "output_type": "execute_result"
    }
   ],
   "source": [
    "loader.predict(new_data)"
   ]
  }
 ],
 "metadata": {
  "kernelspec": {
   "display_name": "Python 3 (ipykernel)",
   "language": "python",
   "name": "python3"
  },
  "language_info": {
   "codemirror_mode": {
    "name": "ipython",
    "version": 3
   },
   "file_extension": ".py",
   "mimetype": "text/x-python",
   "name": "python",
   "nbconvert_exporter": "python",
   "pygments_lexer": "ipython3",
   "version": "3.9.13"
  }
 },
 "nbformat": 4,
 "nbformat_minor": 5
}
